{
 "cells": [
  {
   "cell_type": "code",
   "execution_count": 1,
   "metadata": {},
   "outputs": [
    {
     "name": "stderr",
     "output_type": "stream",
     "text": [
      "Using TensorFlow backend.\n"
     ]
    }
   ],
   "source": [
    "from keras.models import Sequential"
   ]
  },
  {
   "cell_type": "code",
   "execution_count": 59,
   "metadata": {},
   "outputs": [],
   "source": [
    "from keras.layers import Dense, Activation, LSTM"
   ]
  },
  {
   "cell_type": "code",
   "execution_count": 60,
   "metadata": {
    "collapsed": true
   },
   "outputs": [],
   "source": [
    "from keras.optimizers import RMSprop"
   ]
  },
  {
   "cell_type": "code",
   "execution_count": 61,
   "metadata": {
    "collapsed": true
   },
   "outputs": [],
   "source": [
    "from keras.utils.data_utils import get_file"
   ]
  },
  {
   "cell_type": "code",
   "execution_count": 62,
   "metadata": {
    "collapsed": true
   },
   "outputs": [],
   "source": [
    "import numpy as np"
   ]
  },
  {
   "cell_type": "code",
   "execution_count": 63,
   "metadata": {
    "collapsed": true
   },
   "outputs": [],
   "source": [
    "import random"
   ]
  },
  {
   "cell_type": "code",
   "execution_count": 64,
   "metadata": {
    "collapsed": true
   },
   "outputs": [],
   "source": [
    "import sys"
   ]
  },
  {
   "cell_type": "code",
   "execution_count": 65,
   "metadata": {
    "collapsed": true
   },
   "outputs": [],
   "source": [
    "path = './kazeno_matasaburo.txt'"
   ]
  },
  {
   "cell_type": "code",
   "execution_count": 66,
   "metadata": {
    "collapsed": true
   },
   "outputs": [],
   "source": [
    "bindata = open(path, \"rb\").read()"
   ]
  },
  {
   "cell_type": "code",
   "execution_count": 67,
   "metadata": {
    "collapsed": true
   },
   "outputs": [],
   "source": [
    "text = bindata.decode(\"shift_jis\")"
   ]
  },
  {
   "cell_type": "code",
   "execution_count": 68,
   "metadata": {},
   "outputs": [
    {
     "name": "stdout",
     "output_type": "stream",
     "text": [
      "Size of text:  32608\n"
     ]
    }
   ],
   "source": [
    "print('Size of text: ', len(text))"
   ]
  },
  {
   "cell_type": "code",
   "execution_count": 69,
   "metadata": {
    "collapsed": true
   },
   "outputs": [],
   "source": [
    "chars = sorted(list(set(text)))"
   ]
  },
  {
   "cell_type": "code",
   "execution_count": 70,
   "metadata": {},
   "outputs": [
    {
     "name": "stdout",
     "output_type": "stream",
     "text": [
      "Total chars: 783\n"
     ]
    }
   ],
   "source": [
    "print('Total chars:', len(chars))"
   ]
  },
  {
   "cell_type": "code",
   "execution_count": 71,
   "metadata": {
    "collapsed": true
   },
   "outputs": [],
   "source": [
    "char_indices = dict((c, i) for i, c in enumerate(chars))"
   ]
  },
  {
   "cell_type": "code",
   "execution_count": 72,
   "metadata": {},
   "outputs": [],
   "source": [
    "indices_char = dict((i, c) for i, c in enumerate(chars))"
   ]
  },
  {
   "cell_type": "code",
   "execution_count": 73,
   "metadata": {},
   "outputs": [],
   "source": [
    "maxlen = 40"
   ]
  },
  {
   "cell_type": "code",
   "execution_count": 74,
   "metadata": {
    "collapsed": true
   },
   "outputs": [],
   "source": [
    "step = 3"
   ]
  },
  {
   "cell_type": "code",
   "execution_count": 75,
   "metadata": {},
   "outputs": [],
   "source": [
    "sentences = []\n",
    "next_chars = []"
   ]
  },
  {
   "cell_type": "code",
   "execution_count": 76,
   "metadata": {
    "collapsed": true
   },
   "outputs": [],
   "source": [
    "for i in range(0, len(text) - maxlen, step):\n",
    "    sentences.append(text[i: i + maxlen])\n",
    "    next_chars.append(text[i + maxlen])"
   ]
  },
  {
   "cell_type": "code",
   "execution_count": 77,
   "metadata": {},
   "outputs": [
    {
     "name": "stdout",
     "output_type": "stream",
     "text": [
      "Number of sentences:  10856\n"
     ]
    }
   ],
   "source": [
    "print('Number of sentences: ', len(sentences))"
   ]
  },
  {
   "cell_type": "code",
   "execution_count": 78,
   "metadata": {
    "collapsed": true
   },
   "outputs": [],
   "source": [
    "#テキストのベクト化"
   ]
  },
  {
   "cell_type": "code",
   "execution_count": 79,
   "metadata": {
    "collapsed": true
   },
   "outputs": [],
   "source": [
    "X = np.zeros((len(sentences), maxlen, len(chars)), dtype=np.bool)"
   ]
  },
  {
   "cell_type": "code",
   "execution_count": 80,
   "metadata": {
    "collapsed": true
   },
   "outputs": [],
   "source": [
    "y = np.zeros((len(sentences), len(chars)), dtype=np.bool)"
   ]
  },
  {
   "cell_type": "code",
   "execution_count": 81,
   "metadata": {
    "collapsed": true
   },
   "outputs": [],
   "source": [
    "for i, sentence in enumerate(sentences):\n",
    "    for t, char in enumerate(sentence):\n",
    "        X[i, t, char_indices[char]] = 1\n",
    "    y[i, char_indices[next_chars[i]]] = 1"
   ]
  },
  {
   "cell_type": "code",
   "execution_count": 82,
   "metadata": {
    "collapsed": true
   },
   "outputs": [],
   "source": [
    "#モデルを定義する"
   ]
  },
  {
   "cell_type": "code",
   "execution_count": 83,
   "metadata": {
    "collapsed": true
   },
   "outputs": [],
   "source": [
    "model = Sequential()\n",
    "model.add(LSTM(128, input_shape=(maxlen, len(chars))))"
   ]
  },
  {
   "cell_type": "code",
   "execution_count": 84,
   "metadata": {
    "collapsed": true
   },
   "outputs": [],
   "source": [
    "model.add(Dense(len(chars)))"
   ]
  },
  {
   "cell_type": "code",
   "execution_count": 85,
   "metadata": {
    "collapsed": true
   },
   "outputs": [],
   "source": [
    "model.add(Activation('softmax'))"
   ]
  },
  {
   "cell_type": "code",
   "execution_count": 86,
   "metadata": {
    "collapsed": true
   },
   "outputs": [],
   "source": [
    "optimizer = RMSprop(lr=0.01)"
   ]
  },
  {
   "cell_type": "code",
   "execution_count": 87,
   "metadata": {
    "collapsed": true
   },
   "outputs": [],
   "source": [
    "model.compile(loss='categorical_crossentropy', optimizer=optimizer)"
   ]
  },
  {
   "cell_type": "code",
   "execution_count": 88,
   "metadata": {},
   "outputs": [],
   "source": [
    "def sample(preds, temperature=1.0):\n",
    "    preds = np.asarray(preds).astype('float64')\n",
    "    preds = np.log(preds) / temperature\n",
    "    exp_preds = np.exp(preds)\n",
    "    preds = exp_preds / np.sum(exp_preds)\n",
    "    probas = np.random.multinomial(1, preds, 1)\n",
    "    return np.argmax(probas)"
   ]
  },
  {
   "cell_type": "code",
   "execution_count": 89,
   "metadata": {},
   "outputs": [
    {
     "name": "stdout",
     "output_type": "stream",
     "text": [
      "\n",
      "--------------------------------------------------\n",
      "繰り返し回数:  1\n",
      "Epoch 1/1\n",
      "10856/10856 [==============================] - 22s - loss: 4.5157    \n",
      "\n",
      "--------------------------------------------------\n",
      "繰り返し回数:  2\n",
      "Epoch 1/1\n",
      "10856/10856 [==============================] - 21s - loss: 3.6373    \n",
      "\n",
      "--------------------------------------------------\n",
      "繰り返し回数:  3\n",
      "Epoch 1/1\n",
      "10856/10856 [==============================] - 21s - loss: 3.1901    \n",
      "\n",
      "--------------------------------------------------\n",
      "繰り返し回数:  4\n",
      "Epoch 1/1\n",
      "10856/10856 [==============================] - 21s - loss: 2.8519    \n",
      "\n",
      "--------------------------------------------------\n",
      "繰り返し回数:  5\n",
      "Epoch 1/1\n",
      "10856/10856 [==============================] - 20s - loss: 2.5457    \n",
      "\n",
      "--------------------------------------------------\n",
      "繰り返し回数:  6\n",
      "Epoch 1/1\n",
      "10856/10856 [==============================] - 20s - loss: 2.2516    \n",
      "\n",
      "--------------------------------------------------\n",
      "繰り返し回数:  7\n",
      "Epoch 1/1\n",
      "10856/10856 [==============================] - 20s - loss: 1.9616    \n",
      "\n",
      "--------------------------------------------------\n",
      "繰り返し回数:  8\n",
      "Epoch 1/1\n",
      "10856/10856 [==============================] - 20s - loss: 1.7056    \n",
      "\n",
      "--------------------------------------------------\n",
      "繰り返し回数:  9\n",
      "Epoch 1/1\n",
      "10856/10856 [==============================] - 20s - loss: 1.4718    \n",
      "\n",
      "--------------------------------------------------\n",
      "繰り返し回数:  10\n",
      "Epoch 1/1\n",
      "10856/10856 [==============================] - 20s - loss: 1.2827    \n",
      "\n",
      "--------------------------------------------------\n",
      "繰り返し回数:  11\n",
      "Epoch 1/1\n",
      "10856/10856 [==============================] - 20s - loss: 1.1112    \n",
      "\n",
      "--------------------------------------------------\n",
      "繰り返し回数:  12\n",
      "Epoch 1/1\n",
      "10856/10856 [==============================] - 20s - loss: 0.9741    \n",
      "\n",
      "--------------------------------------------------\n",
      "繰り返し回数:  13\n",
      "Epoch 1/1\n",
      "10856/10856 [==============================] - 20s - loss: 0.8675    \n",
      "\n",
      "--------------------------------------------------\n",
      "繰り返し回数:  14\n",
      "Epoch 1/1\n",
      "10856/10856 [==============================] - 20s - loss: 0.7680    \n",
      "\n",
      "--------------------------------------------------\n",
      "繰り返し回数:  15\n",
      "Epoch 1/1\n",
      "10856/10856 [==============================] - 20s - loss: 0.7113    \n",
      "\n",
      "--------------------------------------------------\n",
      "繰り返し回数:  16\n",
      "Epoch 1/1\n",
      "10856/10856 [==============================] - 20s - loss: 0.6326    \n",
      "\n",
      "--------------------------------------------------\n",
      "繰り返し回数:  17\n",
      "Epoch 1/1\n",
      "10856/10856 [==============================] - 20s - loss: 0.5841    \n",
      "\n",
      "--------------------------------------------------\n",
      "繰り返し回数:  18\n",
      "Epoch 1/1\n",
      "10856/10856 [==============================] - 20s - loss: 0.5357    \n",
      "\n",
      "--------------------------------------------------\n",
      "繰り返し回数:  19\n",
      "Epoch 1/1\n",
      "10856/10856 [==============================] - 20s - loss: 0.4921    \n",
      "\n",
      "--------------------------------------------------\n",
      "繰り返し回数:  20\n",
      "Epoch 1/1\n",
      "10856/10856 [==============================] - 20s - loss: 0.4621    \n",
      "\n",
      "--------------------------------------------------\n",
      "繰り返し回数:  21\n",
      "Epoch 1/1\n",
      "10856/10856 [==============================] - 20s - loss: 0.4330    \n",
      "\n",
      "--------------------------------------------------\n",
      "繰り返し回数:  22\n",
      "Epoch 1/1\n",
      "10856/10856 [==============================] - 20s - loss: 0.4047    \n",
      "\n",
      "--------------------------------------------------\n",
      "繰り返し回数:  23\n",
      "Epoch 1/1\n",
      "10856/10856 [==============================] - 20s - loss: 0.3803    \n",
      "\n",
      "--------------------------------------------------\n",
      "繰り返し回数:  24\n",
      "Epoch 1/1\n",
      "10856/10856 [==============================] - 20s - loss: 0.3491    \n",
      "\n",
      "--------------------------------------------------\n",
      "繰り返し回数:  25\n",
      "Epoch 1/1\n",
      "10856/10856 [==============================] - 20s - loss: 0.3363    \n",
      "\n",
      "--------------------------------------------------\n",
      "繰り返し回数:  26\n",
      "Epoch 1/1\n",
      "10856/10856 [==============================] - 20s - loss: 0.3289    \n",
      "\n",
      "--------------------------------------------------\n",
      "繰り返し回数:  27\n",
      "Epoch 1/1\n",
      "10856/10856 [==============================] - 20s - loss: 0.3133    \n",
      "\n",
      "--------------------------------------------------\n",
      "繰り返し回数:  28\n",
      "Epoch 1/1\n",
      "10856/10856 [==============================] - 20s - loss: 0.2980    \n",
      "\n",
      "--------------------------------------------------\n",
      "繰り返し回数:  29\n",
      "Epoch 1/1\n",
      "10856/10856 [==============================] - 21s - loss: 0.2805    \n",
      "\n",
      "--------------------------------------------------\n",
      "繰り返し回数:  30\n",
      "Epoch 1/1\n",
      "10856/10856 [==============================] - 20s - loss: 0.2687    \n",
      "\n",
      "--------------------------------------------------\n",
      "繰り返し回数:  31\n",
      "Epoch 1/1\n",
      "10856/10856 [==============================] - 22s - loss: 0.2613    \n",
      "\n",
      "--------------------------------------------------\n",
      "繰り返し回数:  32\n",
      "Epoch 1/1\n",
      "10856/10856 [==============================] - 20s - loss: 0.2565    \n",
      "\n",
      "--------------------------------------------------\n",
      "繰り返し回数:  33\n",
      "Epoch 1/1\n",
      "10856/10856 [==============================] - 20s - loss: 0.2467    \n",
      "\n",
      "--------------------------------------------------\n",
      "繰り返し回数:  34\n",
      "Epoch 1/1\n",
      "10856/10856 [==============================] - 20s - loss: 0.2260    \n",
      "\n",
      "--------------------------------------------------\n",
      "繰り返し回数:  35\n",
      "Epoch 1/1\n",
      "10856/10856 [==============================] - 20s - loss: 0.2472    \n",
      "\n",
      "--------------------------------------------------\n",
      "繰り返し回数:  36\n",
      "Epoch 1/1\n",
      "10856/10856 [==============================] - 20s - loss: 0.2359    \n",
      "\n",
      "--------------------------------------------------\n",
      "繰り返し回数:  37\n",
      "Epoch 1/1\n",
      "10856/10856 [==============================] - 20s - loss: 0.2298    \n",
      "\n",
      "--------------------------------------------------\n",
      "繰り返し回数:  38\n",
      "Epoch 1/1\n",
      "10856/10856 [==============================] - 20s - loss: 0.2117    \n",
      "\n",
      "--------------------------------------------------\n",
      "繰り返し回数:  39\n",
      "Epoch 1/1\n",
      "10856/10856 [==============================] - 20s - loss: 0.2060    \n",
      "\n",
      "--------------------------------------------------\n",
      "繰り返し回数:  40\n",
      "Epoch 1/1\n",
      "10856/10856 [==============================] - 20s - loss: 0.2042    \n",
      "\n",
      "--------------------------------------------------\n",
      "繰り返し回数:  41\n",
      "Epoch 1/1\n",
      "10856/10856 [==============================] - 20s - loss: 0.2088    \n",
      "\n",
      "--------------------------------------------------\n",
      "繰り返し回数:  42\n",
      "Epoch 1/1\n",
      "10856/10856 [==============================] - 20s - loss: 0.1924    \n",
      "\n",
      "--------------------------------------------------\n",
      "繰り返し回数:  43\n",
      "Epoch 1/1\n",
      "10856/10856 [==============================] - 21s - loss: 0.1982    \n",
      "\n",
      "--------------------------------------------------\n",
      "繰り返し回数:  44\n",
      "Epoch 1/1\n",
      "10856/10856 [==============================] - 21s - loss: 0.1892    \n",
      "\n",
      "--------------------------------------------------\n",
      "繰り返し回数:  45\n",
      "Epoch 1/1\n",
      "10856/10856 [==============================] - 20s - loss: 0.1826    \n",
      "\n",
      "--------------------------------------------------\n",
      "繰り返し回数:  46\n",
      "Epoch 1/1\n",
      "10856/10856 [==============================] - 20s - loss: 0.1761    \n",
      "\n",
      "--------------------------------------------------\n",
      "繰り返し回数:  47\n",
      "Epoch 1/1\n",
      "10856/10856 [==============================] - 20s - loss: 0.1655    \n",
      "\n",
      "--------------------------------------------------\n",
      "繰り返し回数:  48\n",
      "Epoch 1/1\n",
      "10856/10856 [==============================] - 20s - loss: 0.1674    \n",
      "\n",
      "--------------------------------------------------\n",
      "繰り返し回数:  49\n",
      "Epoch 1/1\n",
      "10856/10856 [==============================] - 20s - loss: 0.1565    \n",
      "\n",
      "--------------------------------------------------\n",
      "繰り返し回数:  50\n",
      "Epoch 1/1\n",
      "10856/10856 [==============================] - 20s - loss: 0.1708    \n",
      "\n",
      "--------------------------------------------------\n",
      "繰り返し回数:  51\n",
      "Epoch 1/1\n",
      "10856/10856 [==============================] - 20s - loss: 0.1526    \n",
      "\n",
      "--------------------------------------------------\n",
      "繰り返し回数:  52\n",
      "Epoch 1/1\n",
      "10856/10856 [==============================] - 20s - loss: 0.1498    \n",
      "\n",
      "--------------------------------------------------\n",
      "繰り返し回数:  53\n",
      "Epoch 1/1\n",
      "10856/10856 [==============================] - 20s - loss: 0.1499    \n",
      "\n",
      "--------------------------------------------------\n",
      "繰り返し回数:  54\n",
      "Epoch 1/1\n",
      "10856/10856 [==============================] - 20s - loss: 0.1451    \n",
      "\n",
      "--------------------------------------------------\n",
      "繰り返し回数:  55\n",
      "Epoch 1/1\n",
      "10856/10856 [==============================] - 20s - loss: 0.1387    \n",
      "\n",
      "--------------------------------------------------\n",
      "繰り返し回数:  56\n",
      "Epoch 1/1\n",
      "10856/10856 [==============================] - 20s - loss: 0.1408    \n",
      "\n",
      "--------------------------------------------------\n",
      "繰り返し回数:  57\n",
      "Epoch 1/1\n"
     ]
    },
    {
     "name": "stdout",
     "output_type": "stream",
     "text": [
      "10856/10856 [==============================] - 20s - loss: 0.1438    \n",
      "\n",
      "--------------------------------------------------\n",
      "繰り返し回数:  58\n",
      "Epoch 1/1\n",
      "10856/10856 [==============================] - 20s - loss: 0.1326    \n",
      "\n",
      "--------------------------------------------------\n",
      "繰り返し回数:  59\n",
      "Epoch 1/1\n",
      "10856/10856 [==============================] - 20s - loss: 0.1316    \n",
      "\n",
      "------diversity 0.2\n",
      "---- Seedを生成しました: ここまでです。あしたからちゃんといつものとおりのしたくをしておいでなさい。それか\"\n",
      "ここまでです。あしたからちゃんといつものとおりのしたくをしておいでなさい。それか"
     ]
    },
    {
     "ename": "NameError",
     "evalue": "name 'pred' is not defined",
     "output_type": "error",
     "traceback": [
      "\u001b[1;31m---------------------------------------------------------------------------\u001b[0m",
      "\u001b[1;31mNameError\u001b[0m                                 Traceback (most recent call last)",
      "\u001b[1;32m<ipython-input-89-0454f8b44231>\u001b[0m in \u001b[0;36m<module>\u001b[1;34m()\u001b[0m\n\u001b[0;32m     23\u001b[0m \u001b[1;33m\u001b[0m\u001b[0m\n\u001b[0;32m     24\u001b[0m         \u001b[0mpreds\u001b[0m \u001b[1;33m=\u001b[0m \u001b[0mmodel\u001b[0m\u001b[1;33m.\u001b[0m\u001b[0mpredict\u001b[0m\u001b[1;33m(\u001b[0m\u001b[0mx\u001b[0m\u001b[1;33m,\u001b[0m \u001b[0mverbose\u001b[0m\u001b[1;33m=\u001b[0m\u001b[1;36m9\u001b[0m\u001b[1;33m)\u001b[0m\u001b[1;33m[\u001b[0m\u001b[1;36m0\u001b[0m\u001b[1;33m]\u001b[0m\u001b[1;33m\u001b[0m\u001b[0m\n\u001b[1;32m---> 25\u001b[1;33m         \u001b[0mnext_index\u001b[0m \u001b[1;33m=\u001b[0m \u001b[0msample\u001b[0m\u001b[1;33m(\u001b[0m\u001b[0mpreds\u001b[0m\u001b[1;33m,\u001b[0m \u001b[0mdiversity\u001b[0m\u001b[1;33m)\u001b[0m\u001b[1;33m\u001b[0m\u001b[0m\n\u001b[0m\u001b[0;32m     26\u001b[0m         \u001b[0mnext_char\u001b[0m \u001b[1;33m=\u001b[0m \u001b[0mindices_char\u001b[0m\u001b[1;33m[\u001b[0m\u001b[0mnext_index\u001b[0m\u001b[1;33m]\u001b[0m\u001b[1;33m\u001b[0m\u001b[0m\n\u001b[0;32m     27\u001b[0m \u001b[1;33m\u001b[0m\u001b[0m\n",
      "\u001b[1;32m<ipython-input-88-9b9931cfb590>\u001b[0m in \u001b[0;36msample\u001b[1;34m(preds, temperature)\u001b[0m\n\u001b[0;32m      4\u001b[0m     \u001b[0mexp_preds\u001b[0m \u001b[1;33m=\u001b[0m \u001b[0mnp\u001b[0m\u001b[1;33m.\u001b[0m\u001b[0mexp\u001b[0m\u001b[1;33m(\u001b[0m\u001b[0mpreds\u001b[0m\u001b[1;33m)\u001b[0m\u001b[1;33m\u001b[0m\u001b[0m\n\u001b[0;32m      5\u001b[0m     \u001b[0mpreds\u001b[0m \u001b[1;33m=\u001b[0m \u001b[0mexp_preds\u001b[0m \u001b[1;33m/\u001b[0m \u001b[0mnp\u001b[0m\u001b[1;33m.\u001b[0m\u001b[0msum\u001b[0m\u001b[1;33m(\u001b[0m\u001b[0mexp_preds\u001b[0m\u001b[1;33m)\u001b[0m\u001b[1;33m\u001b[0m\u001b[0m\n\u001b[1;32m----> 6\u001b[1;33m     \u001b[0mprobas\u001b[0m \u001b[1;33m=\u001b[0m \u001b[0mnp\u001b[0m\u001b[1;33m.\u001b[0m\u001b[0mrandom\u001b[0m\u001b[1;33m.\u001b[0m\u001b[0mmultinomial\u001b[0m\u001b[1;33m(\u001b[0m\u001b[1;36m1\u001b[0m\u001b[1;33m,\u001b[0m \u001b[0mpred\u001b[0m\u001b[1;33m,\u001b[0m \u001b[1;36m1\u001b[0m\u001b[1;33m)\u001b[0m\u001b[1;33m\u001b[0m\u001b[0m\n\u001b[0m\u001b[0;32m      7\u001b[0m     \u001b[1;32mreturn\u001b[0m \u001b[0mnp\u001b[0m\u001b[1;33m.\u001b[0m\u001b[0margmax\u001b[0m\u001b[1;33m(\u001b[0m\u001b[0mprobas\u001b[0m\u001b[1;33m)\u001b[0m\u001b[1;33m\u001b[0m\u001b[0m\n",
      "\u001b[1;31mNameError\u001b[0m: name 'pred' is not defined"
     ]
    }
   ],
   "source": [
    "for iteration in range(1, 60):\n",
    "    print()\n",
    "    print('-' * 50)\n",
    "    print('繰り返し回数: ', iteration)\n",
    "    model.fit(X, y, batch_size=128, epochs=1)\n",
    "\n",
    "start_index = random.randint(0, len(text) - maxlen - 1)\n",
    "\n",
    "for diversity in [0.2, 0.5, 1.0, 1.2]:\n",
    "    print()\n",
    "    print('------diversity', diversity)\n",
    "    \n",
    "    generated = ''\n",
    "    sentence = text[start_index: start_index + maxlen]\n",
    "    generated += sentence\n",
    "    print('---- Seedを生成しました: ' + sentence + '\"')\n",
    "    sys.stdout.write(generated)\n",
    "    \n",
    "    for i in range(400):\n",
    "        x = np.zeros((1, maxlen, len(chars)))\n",
    "        for t, char in enumerate(sentence):\n",
    "            x[0, t, char_indices[char]] = 1.\n",
    "            \n",
    "        preds = model.predict(x, verbose=9)[0]\n",
    "        next_index = sample(preds, diversity)\n",
    "        next_char = indices_char[next_index]\n",
    "        \n",
    "        generated += next_char\n",
    "        sentence = sentence[1:] + next_char\n",
    "        \n",
    "        sys.stdout.write(next_char)\n",
    "        sys.stdout.flush()\n",
    "        \n",
    "    print()"
   ]
  },
  {
   "cell_type": "code",
   "execution_count": null,
   "metadata": {
    "collapsed": true
   },
   "outputs": [],
   "source": []
  },
  {
   "cell_type": "code",
   "execution_count": null,
   "metadata": {
    "collapsed": true
   },
   "outputs": [],
   "source": []
  }
 ],
 "metadata": {
  "kernelspec": {
   "display_name": "Python 3",
   "language": "python",
   "name": "python3"
  },
  "language_info": {
   "codemirror_mode": {
    "name": "ipython",
    "version": 3
   },
   "file_extension": ".py",
   "mimetype": "text/x-python",
   "name": "python",
   "nbconvert_exporter": "python",
   "pygments_lexer": "ipython3",
   "version": "3.6.1"
  }
 },
 "nbformat": 4,
 "nbformat_minor": 2
}
